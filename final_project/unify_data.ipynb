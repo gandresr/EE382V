{
 "cells": [
  {
   "cell_type": "code",
   "execution_count": 4,
   "metadata": {},
   "outputs": [],
   "source": [
    "import librosa\n",
    "import librosa.display\n",
    "import os\n",
    "import matplotlib.pyplot as plt\n",
    "import numpy as np\n",
    "from collections import defaultdict as ddict\n",
    "import xarray as xr\n",
    "import pickle\n",
    "%matplotlib widget"
   ]
  },
  {
   "cell_type": "code",
   "execution_count": 25,
   "metadata": {},
   "outputs": [
    {
     "name": "stdout",
     "output_type": "stream",
     "text": [
      "pressure leak transient_ns 0\n",
      "pressure leak transient_ns 1\n",
      "pressure leak demand_s F7_5 0\n",
      "pressure leak demand_s F7_5 1\n",
      "pressure leak demand_s F3 0\n",
      "pressure leak demand_s F3 1\n",
      "pressure leak ndemand_ns 0\n",
      "pressure leak ndemand_ns 1\n",
      "pressure no_leak transient_ns 0\n",
      "pressure no_leak transient_ns 1\n",
      "pressure no_leak demand_s F7_5 0\n",
      "pressure no_leak demand_s F7_5 1\n",
      "pressure no_leak demand_s F3 0\n",
      "pressure no_leak demand_s F3 1\n",
      "pressure no_leak ndemand_ns 0\n",
      "pressure no_leak ndemand_ns 1\n",
      "hydrophone leak transient_ns 0\n",
      "hydrophone leak transient_ns 1\n",
      "hydrophone leak transient_s 0\n",
      "hydrophone leak transient_s 1\n",
      "hydrophone leak demand_s F7_5 0\n",
      "hydrophone leak demand_s F7_5 1\n",
      "hydrophone leak demand_s F3 0\n",
      "hydrophone leak demand_s F3 1\n",
      "hydrophone leak ndemand_s 0\n",
      "hydrophone leak ndemand_s 1\n",
      "hydrophone leak ndemand_ns 0\n",
      "hydrophone leak ndemand_ns 1\n",
      "hydrophone no_leak transient_ns 0\n",
      "hydrophone no_leak transient_ns 1\n",
      "hydrophone no_leak transient_s 0\n",
      "hydrophone no_leak transient_s 1\n",
      "hydrophone no_leak demand_s F7_5 0\n",
      "hydrophone no_leak demand_s F7_5 1\n",
      "hydrophone no_leak demand_s F3 0\n",
      "hydrophone no_leak demand_s F3 1\n",
      "hydrophone no_leak ndemand_s 0\n",
      "hydrophone no_leak ndemand_s 1\n",
      "hydrophone no_leak ndemand_ns 0\n",
      "hydrophone no_leak ndemand_ns 1\n"
     ]
    }
   ],
   "source": [
    "def load_data(sr = 4096):\n",
    "    data = {\n",
    "        'sr' : sr,\n",
    "        'pressure' : {\n",
    "            'leak' : ddict(dict),\n",
    "            'no_leak' : ddict(dict)\n",
    "        },\n",
    "        'hydrophone' : {\n",
    "            'leak' : ddict(dict),\n",
    "            'no_leak' : ddict(dict)\n",
    "        }\n",
    "    }\n",
    "    \n",
    "    workspace_path = os.path.join( os.getcwd(), 'data' )\n",
    "    for dtype in ('pressure', 'hydrophone'):\n",
    "        for scenario in ('leak', 'no_leak'):\n",
    "            scenario_folder = os.path.join(workspace_path, dtype, scenario)\n",
    "            for case in os.listdir(scenario_folder):\n",
    "                cases_path = os.path.join(scenario_folder, case)\n",
    "                if case in ('demand_ns', 'demand_s'):\n",
    "                    if type(data[dtype][scenario][case]) is dict:\n",
    "                        data[dtype][scenario][case] = ddict(dict)\n",
    "                    for demand_val in os.listdir(cases_path):\n",
    "                        dpath = os.path.join(cases_path, demand_val)\n",
    "                        for i, file in enumerate(sorted(os.listdir(dpath))):\n",
    "                            fpath = os.path.join(dpath, file)\n",
    "                            if dtype == 'pressure': # CSV files\n",
    "                                y = np.loadtxt(fpath, skiprows=4, delimiter=',')\n",
    "                                old_sr = 1 / (y[1,0]-y[0,0])\n",
    "                                y = librosa.resample(y[:,1], old_sr, sr)\n",
    "                                data[dtype][scenario][case][demand_val][i] = y\n",
    "                                print(dtype, scenario, case, demand_val, i)\n",
    "                            elif dtype == 'hydrophone': # wav files\n",
    "                                y, sr = librosa.load(fpath, sr=sr)\n",
    "                                data[dtype][scenario][case][demand_val][i] = y\n",
    "                                print(dtype, scenario, case, demand_val, i)\n",
    "                else:\n",
    "                    for i, file in enumerate(sorted(os.listdir(cases_path))):\n",
    "                        fpath = os.path.join(cases_path, file)\n",
    "                        if dtype == 'pressure': # CSV files\n",
    "                            y = np.loadtxt(fpath, skiprows=4, delimiter=',')\n",
    "                            old_sr = 1 / (y[1,0]-y[0,0])\n",
    "                            y = librosa.resample(y[:,1], old_sr, sr)\n",
    "                            data[dtype][scenario][case][i] = y\n",
    "                            print(dtype, scenario, case, i)\n",
    "                        elif dtype == 'hydrophone': # wav files\n",
    "                            y, sr = librosa.load(fpath, sr=sr)\n",
    "                            data[dtype][scenario][case][i] = y\n",
    "                            print(dtype, scenario, case, i)\n",
    "    return data\n",
    "\n",
    "data = load_data(2048)\n",
    "with open('data.pkl', 'wb') as f:\n",
    "    pickle.dump(data, f)"
   ]
  },
  {
   "cell_type": "code",
   "execution_count": 34,
   "metadata": {},
   "outputs": [
    {
     "name": "stdout",
     "output_type": "stream",
     "text": [
      "/home/griano/Documents/Github/EE382V/final_project/data/hydrophone/no_leak/ndemand_ns/01-BR_NL_ND_NS_H1.wav\n",
      "/home/griano/Documents/Github/EE382V/final_project/data/hydrophone/no_leak/ndemand_ns/02-BR_NL_ND_NS_H2.wav\n",
      "/home/griano/Documents/Github/EE382V/final_project/data/hydrophone/leak/ndemand_ns/02-BR_O_1.6 mm_ND_NS_H2.wav\n",
      "/home/griano/Documents/Github/EE382V/final_project/data/hydrophone/leak/ndemand_ns/01-BR_O_1.6 mm_ND_NS_H1.wav\n"
     ]
    },
    {
     "data": {
      "image/png": "[encoded data removed]",
      "text/plain": [
       "<Figure size 432x288 with 1 Axes>"
      ]
     },
     "metadata": {
      "needs_background": "light"
     },
     "output_type": "display_data"
    }
   ],
   "source": [
    "x_noleak = []\n",
    "ppath = '/home/griano/Documents/Github/EE382V/final_project/data/hydrophone/no_leak/ndemand_ns'\n",
    "for i in os.listdir(ppath):\n",
    "    fpath = os.path.join(ppath, i)\n",
    "    print(fpath)\n",
    "    y, sr = librosa.load(fpath, sr=4096)\n",
    "    x_noleak.append(y[:100000])\n",
    "    \n",
    "x_leak = []\n",
    "ppath = '/home/griano/Documents/Github/EE382V/final_project/data/hydrophone/leak/ndemand_ns'\n",
    "for i in os.listdir(ppath):\n",
    "    fpath = os.path.join(ppath, i)\n",
    "    print(fpath)\n",
    "    y, sr = librosa.load(fpath, sr=4096)\n",
    "    x_leak.append(y)\n",
    "\n",
    "from scipy.fft import fft\n",
    "import matplotlib.pyplot as plt\n",
    "\n",
    "j = 0\n",
    "\n",
    "# Number of sample points\n",
    "N = len(x_noleak[j])\n",
    "T = 1.0 / 4096\n",
    "x = np.linspace(0.0, N*T, N)\n",
    "y = x_noleak[j]\n",
    "yf = fft(y)\n",
    "xf = np.linspace(0.0, 1.0/(2.0*T), N//2)\n",
    "plt.plot(xf, 2.0/N * np.abs(yf[0:N//2]), label='no_leak')\n",
    "yf = fft(x_leak[j])\n",
    "plt.plot(xf, 2.0/N * np.abs(yf[0:N//2]), label='leak')\n",
    "plt.grid()\n",
    "plt.xlim([0,100])\n",
    "plt.legend()\n",
    "plt.xlabel('Frequency [Hz]')\n",
    "plt.savefig('Spectrum.png')\n",
    "plt.show()\n",
    "\n"
   ]
  },
  {
   "cell_type": "code",
   "execution_count": 9,
   "metadata": {},
   "outputs": [],
   "source": [
    "sr = 1 / (x[1,0]-x[0,0])\n",
    "xx = librosa.resample(x[:,1], sr, 4096)"
   ]
  },
  {
   "cell_type": "code",
   "execution_count": 10,
   "metadata": {},
   "outputs": [
    {
     "data": {
      "image/png": "[encoded data removed]",
      "text/plain": [
       "<Figure size 432x288 with 1 Axes>"
      ]
     },
     "metadata": {
      "needs_background": "light"
     },
     "output_type": "display_data"
    }
   ],
   "source": [
    "%matplotlib inline\n",
    "t = np.linspace(0,x[-1,0], len(x))\n",
    "plt.plot(t,x[:,1])\n",
    "tt = np.linspace(0,x[-1,0], len(xx))\n",
    "plt.plot(tt,xx)\n",
    "plt.show()"
   ]
  },
  {
   "cell_type": "code",
   "execution_count": null,
   "metadata": {},
   "outputs": [],
   "source": []
  }
 ],
 "metadata": {
  "kernelspec": {
   "display_name": "Python 3.7.7 64-bit ('phammer': conda)",
   "language": "python",
   "name": "python37764bitphammercondac9f0344713104993ae510b171364cf4d"
  },
  "language_info": {
   "codemirror_mode": {
    "name": "ipython",
    "version": 3
   },
   "file_extension": ".py",
   "mimetype": "text/x-python",
   "name": "python",
   "nbconvert_exporter": "python",
   "pygments_lexer": "ipython3",
   "version": "3.7.7"
  }
 },
 "nbformat": 4,
 "nbformat_minor": 4
}
